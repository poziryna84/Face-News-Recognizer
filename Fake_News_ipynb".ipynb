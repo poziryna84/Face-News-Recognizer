{
  "nbformat": 4,
  "nbformat_minor": 0,
  "metadata": {
    "accelerator": "GPU",
    "colab": {
      "name": "Fake_News.ipynb\"",
      "provenance": [],
      "collapsed_sections": [],
      "toc_visible": true,
      "authorship_tag": "ABX9TyNtkK8vrTWrYui1NO3Jo0Pp",
      "include_colab_link": true
    },
    "kernelspec": {
      "display_name": "Python 3",
      "name": "python3"
    }
  },
  "cells": [
    {
      "cell_type": "markdown",
      "metadata": {
        "id": "view-in-github",
        "colab_type": "text"
      },
      "source": [
        "<a href=\"https://colab.research.google.com/github/poziryna84/Fake-News-Recognizer/blob/master/Fake_News_ipynb%22.ipynb\" target=\"_parent\"><img src=\"https://colab.research.google.com/assets/colab-badge.svg\" alt=\"Open In Colab\"/></a>"
      ]
    },
    {
      "cell_type": "code",
      "metadata": {
        "id": "gY2rJZuNSGnj",
        "outputId": "2a0120da-4925-4ec0-ba8e-a4ed9a341b68",
        "colab": {
          "base_uri": "https://localhost:8080/"
        }
      },
      "source": [
        "from google.colab import drive\n",
        "drive.mount('/content/drive')"
      ],
      "execution_count": null,
      "outputs": [
        {
          "output_type": "stream",
          "text": [
            "Drive already mounted at /content/drive; to attempt to forcibly remount, call drive.mount(\"/content/drive\", force_remount=True).\n"
          ],
          "name": "stdout"
        }
      ]
    },
    {
      "cell_type": "code",
      "metadata": {
        "id": "EIaxinxDS8Jt"
      },
      "source": [
        "import pandas as pd\n",
        "import numpy as np\n",
        "import re\n",
        "import spacy\n",
        "from spacy.lang.en import English\n",
        "nlp = spacy.load('en_core_web_sm')\n",
        "import matplotlib.pyplot as plt\n",
        "import matplotlib.gridspec as gridspec\n",
        "from spacy.lang.en.stop_words import STOP_WORDS\n",
        "from sklearn import feature_extraction, model_selection, naive_bayes, pipeline, manifold, preprocessing, feature_selection, metrics"
      ],
      "execution_count": null,
      "outputs": []
    },
    {
      "cell_type": "markdown",
      "metadata": {
        "id": "dNVhnoyfjxDT"
      },
      "source": [
        "# Functions"
      ]
    },
    {
      "cell_type": "code",
      "metadata": {
        "id": "YFmD2sHaj40b"
      },
      "source": [
        "def json_splitter(column):\n",
        "  ''' Function that identifies the incorrectly stored .json files among the rows\n",
        "  of the data frame and creates the id list with their indexes;\n",
        "  splits the strings into separate comments and their labels and saves them into\n",
        "  a data frame. \n",
        "  '''\n",
        "  inds = []\n",
        "  labels = []\n",
        "  texts = []\n",
        "  pattern = r'\\t.+?\\n\\d+.json\\t\\w+-?\\w+?\\t'\n",
        "  labe_pattern = r'.json\\t(.+?)\\t'\n",
        "  text_pattern = r'.+\\t.+?\\n\\d+.json\\t\\w+-?\\w+?\\t'\n",
        "  lab_dict = {'barely-true': 0, 'false': 1, 'pants-fire': 1, 'half-true': 2, \n",
        "              'mostly-true': 3, 'not-known': 4, 'true': 5}\n",
        "  for ind in column.index:\n",
        "\n",
        "    string = column[ind]\n",
        "    \n",
        "    if len(re.findall(pattern, string))>0:\n",
        "      inds.append(ind)\n",
        "      aux_labels = re.findall(labe_pattern, string)\n",
        "      num_labels = [lab_dict[l] for l in aux_labels]\n",
        "      labels = labels + num_labels\n",
        "\n",
        "      aux_texts = re.findall(text_pattern, string)\n",
        "      for text in aux_texts:\n",
        "        text = re.sub(r'\\t.+?\\n\\d+.json\\t\\w+-?\\w+?\\t','', text)\n",
        "        texts.append(text)\n",
        "  data = {'Labels': labels,\n",
        "          'Text': texts\n",
        "          }\n",
        "  df = pd.DataFrame(data)\n",
        "  df['text_len'] = df.Text.apply(len)\n",
        "  return df, inds\n",
        "\n",
        "def spacy_counter(df, type_, text_column, target_column):\n",
        "    '''Functions that return a number of parts of speech or entetis from a \n",
        "    string.\n",
        "    '''\n",
        "\n",
        "    def stop_words_count(text):\n",
        "      doc = nlp(text)\n",
        "      n_stop = [t.text for t in doc  if t.text in STOP_WORDS]\n",
        "    \n",
        "      return len(n_stop)\n",
        "    \n",
        "    def partofSpeachRec(text,tag):\n",
        "        doc = nlp(text)\n",
        "        pos = [token.pos_ for token in doc]\n",
        "        return pos.count(tag)\n",
        "    def entetiesRecog(text, tag):\n",
        "        doc = nlp(text)\n",
        "        labels = [ent.label_ for ent in doc.ents]\n",
        "        return labels.count(tag)\n",
        "        \n",
        "    ps_dict = {'ADJ': 'adjectives', 'ADP': 'prepositions', 'ADV': 'adverb',\n",
        "              'NOUN': 'nouns', 'NUM': 'numerals', 'PRON': 'pronouns', \n",
        "               'PROPN': 'proper nouns', 'VERB': 'verbs'}\n",
        "    ent_dict = {'PERSON': 'People, including fictional',\n",
        "                'GPE': 'Countries, cities, states.', \n",
        "                'DATE': 'Absolute or relative dates or periods',\n",
        "                'TIME': '\tTimes smaller than a day', \n",
        "                'ORDINAL': 'Ordinal numbers', 'CARDINAL': 'Cardinal numbers'}\n",
        "    \n",
        "    stop_dict = {'STOP_WORDS': 'Number of stop words'}\n",
        "     \n",
        "    if type_ == 'stop_words':\n",
        "      \n",
        "      function = stop_words_count\n",
        "      dictionary = stop_dict\n",
        "\n",
        "    elif type_ == 'part_of_speech':\n",
        "        \n",
        "        function = partofSpeachRec\n",
        "        dictionary = ps_dict\n",
        "\n",
        "    elif type_ == 'entety_label':\n",
        "        \n",
        "        function = entetiesRecog\n",
        "        dictionary = ent_dict\n",
        "\n",
        "    for i in dictionary.keys():\n",
        "      if i == 'STOP_WORDS':\n",
        "        df[i] = df[text_column].apply(lambda x: function(x))\n",
        "      else:\n",
        "        df[i] = df[text_column].apply(lambda x: function(x, i))\n",
        "      plot_test=df[i].hist(by=df[target_column], sharex=True,bins = 15)\n",
        "      plt.suptitle(\"The %s distribution by label\"% (dictionary[i]))\n",
        "        \n",
        "    return df\n",
        "\n",
        "\n",
        "def text_cleaner(string):\n",
        "  '''Function that converts a string to lowercase and removes punctuations,\n",
        "   numbers and characters and then strips it;\n",
        "   removes Stopwords and long spaces;\n",
        "   performs Lemmatisation.\n",
        "  '''\n",
        "  string = re.sub(r'-', ' ', str(string))\n",
        "  string = re.sub(r'[^\\w\\s]', '', str(string).lower().strip())\n",
        "  string = re.sub(r'\\d+', '', string)\n",
        "  doc = nlp(string)\n",
        "  lems = [i.lemma_ for i in doc if ((i.text not in STOP_WORDS) & (len(i.lemma_) > 2))]\n",
        "  text = \" \".join(lems)\n",
        "  text = re.sub(' +', ' ', text)\n",
        "  return text.strip()\n",
        "\n",
        "def statsByLabel(df, columns, target_column):\n",
        "  for i in columns:\n",
        "    tot_col = [i, target_column]\n",
        "    print(df[tot_col].groupby(target_column).mean())"
      ],
      "execution_count": null,
      "outputs": []
    },
    {
      "cell_type": "markdown",
      "metadata": {
        "id": "BwWXG9nwdvvG"
      },
      "source": [
        "# Loading and cleaning data"
      ]
    },
    {
      "cell_type": "code",
      "metadata": {
        "id": "fv85awGe2tvR"
      },
      "source": [
        "train_data = pd.read_csv('/content/drive/My Drive/Participants_Data_WH20/Train.csv')\n",
        "test_data = pd.read_csv('/content/drive/My Drive/Participants_Data_WH20/Test.csv')\n",
        "sub = pd.read_csv('/content/drive/My Drive/Participants_Data_WH20/sample submission.csv')"
      ],
      "execution_count": null,
      "outputs": []
    },
    {
      "cell_type": "code",
      "metadata": {
        "id": "azmQYrIya3Zl",
        "outputId": "1312f3bc-c8cf-4f7d-ce61-e92c4c0f5f23",
        "colab": {
          "base_uri": "https://localhost:8080/"
        }
      },
      "source": [
        "train_data.shape"
      ],
      "execution_count": null,
      "outputs": [
        {
          "output_type": "execute_result",
          "data": {
            "text/plain": [
              "(10240, 3)"
            ]
          },
          "metadata": {
            "tags": []
          },
          "execution_count": 8
        }
      ]
    },
    {
      "cell_type": "code",
      "metadata": {
        "id": "vn5kwMcea5N3",
        "outputId": "819be806-bca4-4541-d298-7535b225f30e",
        "colab": {
          "base_uri": "https://localhost:8080/",
          "height": 204
        }
      },
      "source": [
        "train_data.head()"
      ],
      "execution_count": null,
      "outputs": [
        {
          "output_type": "execute_result",
          "data": {
            "text/html": [
              "<div>\n",
              "<style scoped>\n",
              "    .dataframe tbody tr th:only-of-type {\n",
              "        vertical-align: middle;\n",
              "    }\n",
              "\n",
              "    .dataframe tbody tr th {\n",
              "        vertical-align: top;\n",
              "    }\n",
              "\n",
              "    .dataframe thead th {\n",
              "        text-align: right;\n",
              "    }\n",
              "</style>\n",
              "<table border=\"1\" class=\"dataframe\">\n",
              "  <thead>\n",
              "    <tr style=\"text-align: right;\">\n",
              "      <th></th>\n",
              "      <th>Labels</th>\n",
              "      <th>Text</th>\n",
              "      <th>Text_Tag</th>\n",
              "    </tr>\n",
              "  </thead>\n",
              "  <tbody>\n",
              "    <tr>\n",
              "      <th>0</th>\n",
              "      <td>1</td>\n",
              "      <td>Says the Annies List political group supports ...</td>\n",
              "      <td>abortion</td>\n",
              "    </tr>\n",
              "    <tr>\n",
              "      <th>1</th>\n",
              "      <td>2</td>\n",
              "      <td>When did the decline of coal start? It started...</td>\n",
              "      <td>energy,history,job-accomplishments</td>\n",
              "    </tr>\n",
              "    <tr>\n",
              "      <th>2</th>\n",
              "      <td>3</td>\n",
              "      <td>Hillary Clinton agrees with John McCain \"by vo...</td>\n",
              "      <td>foreign-policy</td>\n",
              "    </tr>\n",
              "    <tr>\n",
              "      <th>3</th>\n",
              "      <td>1</td>\n",
              "      <td>Health care reform legislation is likely to ma...</td>\n",
              "      <td>health-care</td>\n",
              "    </tr>\n",
              "    <tr>\n",
              "      <th>4</th>\n",
              "      <td>2</td>\n",
              "      <td>The economic turnaround started at the end of ...</td>\n",
              "      <td>economy,jobs</td>\n",
              "    </tr>\n",
              "  </tbody>\n",
              "</table>\n",
              "</div>"
            ],
            "text/plain": [
              "   Labels  ...                            Text_Tag\n",
              "0       1  ...                            abortion\n",
              "1       2  ...  energy,history,job-accomplishments\n",
              "2       3  ...                      foreign-policy\n",
              "3       1  ...                         health-care\n",
              "4       2  ...                        economy,jobs\n",
              "\n",
              "[5 rows x 3 columns]"
            ]
          },
          "metadata": {
            "tags": []
          },
          "execution_count": 9
        }
      ]
    },
    {
      "cell_type": "markdown",
      "metadata": {
        "id": "fW3wrDxiebop"
      },
      "source": [
        "**Identifying and removing duplicated rows**"
      ]
    },
    {
      "cell_type": "code",
      "metadata": {
        "id": "acRJyGbww50T",
        "outputId": "dd68dd43-35e6-4bcd-c67a-2873500a0cac",
        "colab": {
          "base_uri": "https://localhost:8080/"
        }
      },
      "source": [
        "train_data.duplicated().sum()"
      ],
      "execution_count": null,
      "outputs": [
        {
          "output_type": "execute_result",
          "data": {
            "text/plain": [
              "8"
            ]
          },
          "metadata": {
            "tags": []
          },
          "execution_count": 10
        }
      ]
    },
    {
      "cell_type": "code",
      "metadata": {
        "id": "yj7uKklwxCQg"
      },
      "source": [
        "train_data = train_data.drop_duplicates()"
      ],
      "execution_count": null,
      "outputs": []
    },
    {
      "cell_type": "markdown",
      "metadata": {
        "id": "BlTMEpsZez_7"
      },
      "source": [
        "After removing the duplicated rows, duplicated Text rows with different Labels were identified. These occurrence will be challenging as they might confuse the algorythm."
      ]
    },
    {
      "cell_type": "code",
      "metadata": {
        "id": "xgcYlvGrl9Pj",
        "outputId": "b8a9dcb4-6a54-4e9f-e26a-fe7bdebfa6ae",
        "colab": {
          "base_uri": "https://localhost:8080/",
          "height": 607
        }
      },
      "source": [
        "train_data[train_data['Text'].duplicated(keep = False)]"
      ],
      "execution_count": null,
      "outputs": [
        {
          "output_type": "execute_result",
          "data": {
            "text/html": [
              "<div>\n",
              "<style scoped>\n",
              "    .dataframe tbody tr th:only-of-type {\n",
              "        vertical-align: middle;\n",
              "    }\n",
              "\n",
              "    .dataframe tbody tr th {\n",
              "        vertical-align: top;\n",
              "    }\n",
              "\n",
              "    .dataframe thead th {\n",
              "        text-align: right;\n",
              "    }\n",
              "</style>\n",
              "<table border=\"1\" class=\"dataframe\">\n",
              "  <thead>\n",
              "    <tr style=\"text-align: right;\">\n",
              "      <th></th>\n",
              "      <th>Labels</th>\n",
              "      <th>Text</th>\n",
              "      <th>Text_Tag</th>\n",
              "    </tr>\n",
              "  </thead>\n",
              "  <tbody>\n",
              "    <tr>\n",
              "      <th>709</th>\n",
              "      <td>1</td>\n",
              "      <td>On abortion</td>\n",
              "      <td>abortion,corrections-and-updates</td>\n",
              "    </tr>\n",
              "    <tr>\n",
              "      <th>931</th>\n",
              "      <td>5</td>\n",
              "      <td>On support for gay marriage.</td>\n",
              "      <td>gays-and-lesbians</td>\n",
              "    </tr>\n",
              "    <tr>\n",
              "      <th>1014</th>\n",
              "      <td>2</td>\n",
              "      <td>On abortion</td>\n",
              "      <td>abortion,candidates-biography</td>\n",
              "    </tr>\n",
              "    <tr>\n",
              "      <th>1071</th>\n",
              "      <td>5</td>\n",
              "      <td>On torture.</td>\n",
              "      <td>military</td>\n",
              "    </tr>\n",
              "    <tr>\n",
              "      <th>1526</th>\n",
              "      <td>2</td>\n",
              "      <td>Four balanced budgets in a row, with no new ta...</td>\n",
              "      <td>education,state-budget,state-finances</td>\n",
              "    </tr>\n",
              "    <tr>\n",
              "      <th>1814</th>\n",
              "      <td>1</td>\n",
              "      <td>On support for gay marriage.</td>\n",
              "      <td>civil-rights,families,gays-and-lesbians,marriage</td>\n",
              "    </tr>\n",
              "    <tr>\n",
              "      <th>1899</th>\n",
              "      <td>5</td>\n",
              "      <td>Six justices on the U.S. Supreme Court have be...</td>\n",
              "      <td>history,supreme-court</td>\n",
              "    </tr>\n",
              "    <tr>\n",
              "      <th>2846</th>\n",
              "      <td>3</td>\n",
              "      <td>Four balanced budgets in a row, with no new ta...</td>\n",
              "      <td>job-accomplishments,jobs,state-budget,state-fi...</td>\n",
              "    </tr>\n",
              "    <tr>\n",
              "      <th>2872</th>\n",
              "      <td>1</td>\n",
              "      <td>On a cap-and-trade plan.</td>\n",
              "      <td>cap-and-trade,climate-change,jobs</td>\n",
              "    </tr>\n",
              "    <tr>\n",
              "      <th>3256</th>\n",
              "      <td>1</td>\n",
              "      <td>On a cap-and-trade plan.</td>\n",
              "      <td>cap-and-trade,climate-change,environment</td>\n",
              "    </tr>\n",
              "    <tr>\n",
              "      <th>6759</th>\n",
              "      <td>2</td>\n",
              "      <td>On torture.</td>\n",
              "      <td>human-rights,terrorism</td>\n",
              "    </tr>\n",
              "    <tr>\n",
              "      <th>6966</th>\n",
              "      <td>1</td>\n",
              "      <td>On the status of illegal immigrants</td>\n",
              "      <td>immigration</td>\n",
              "    </tr>\n",
              "    <tr>\n",
              "      <th>7248</th>\n",
              "      <td>2</td>\n",
              "      <td>On the status of illegal immigrants</td>\n",
              "      <td>immigration</td>\n",
              "    </tr>\n",
              "    <tr>\n",
              "      <th>7647</th>\n",
              "      <td>5</td>\n",
              "      <td>Six justices on the U.S. Supreme Court have be...</td>\n",
              "      <td>congress,legal-issues,supreme-court</td>\n",
              "    </tr>\n",
              "    <tr>\n",
              "      <th>7790</th>\n",
              "      <td>2</td>\n",
              "      <td>Twenty million Americans are out of work.</td>\n",
              "      <td>economy,jobs</td>\n",
              "    </tr>\n",
              "    <tr>\n",
              "      <th>8858</th>\n",
              "      <td>2</td>\n",
              "      <td>Some 20,000 Delphi salaried retirees lost up t...</td>\n",
              "      <td>corporations,economy,financial-regulation,pens...</td>\n",
              "    </tr>\n",
              "    <tr>\n",
              "      <th>9400</th>\n",
              "      <td>2</td>\n",
              "      <td>Twenty million Americans are out of work.</td>\n",
              "      <td>jobs</td>\n",
              "    </tr>\n",
              "    <tr>\n",
              "      <th>9750</th>\n",
              "      <td>0</td>\n",
              "      <td>Some 20,000 Delphi salaried retirees lost up t...</td>\n",
              "      <td>corporations,economy</td>\n",
              "    </tr>\n",
              "  </tbody>\n",
              "</table>\n",
              "</div>"
            ],
            "text/plain": [
              "      Labels  ...                                           Text_Tag\n",
              "709        1  ...                   abortion,corrections-and-updates\n",
              "931        5  ...                                  gays-and-lesbians\n",
              "1014       2  ...                      abortion,candidates-biography\n",
              "1071       5  ...                                           military\n",
              "1526       2  ...              education,state-budget,state-finances\n",
              "1814       1  ...   civil-rights,families,gays-and-lesbians,marriage\n",
              "1899       5  ...                              history,supreme-court\n",
              "2846       3  ...  job-accomplishments,jobs,state-budget,state-fi...\n",
              "2872       1  ...                  cap-and-trade,climate-change,jobs\n",
              "3256       1  ...           cap-and-trade,climate-change,environment\n",
              "6759       2  ...                             human-rights,terrorism\n",
              "6966       1  ...                                        immigration\n",
              "7248       2  ...                                        immigration\n",
              "7647       5  ...                congress,legal-issues,supreme-court\n",
              "7790       2  ...                                       economy,jobs\n",
              "8858       2  ...  corporations,economy,financial-regulation,pens...\n",
              "9400       2  ...                                               jobs\n",
              "9750       0  ...                               corporations,economy\n",
              "\n",
              "[18 rows x 3 columns]"
            ]
          },
          "metadata": {
            "tags": []
          },
          "execution_count": 12
        }
      ]
    },
    {
      "cell_type": "markdown",
      "metadata": {
        "id": "Q_U1qg5mgOjp"
      },
      "source": [
        "**Analysing the length of the comments**"
      ]
    },
    {
      "cell_type": "markdown",
      "metadata": {
        "id": "RTQ2UPlQgZl4"
      },
      "source": [
        "As the plot shows there are some obvious outliers among the lengths of the comments which should be further investigated."
      ]
    },
    {
      "cell_type": "code",
      "metadata": {
        "id": "kzqFaIR31y3d"
      },
      "source": [
        "train_data['text_len'] = train_data.Text.apply(len)"
      ],
      "execution_count": null,
      "outputs": []
    },
    {
      "cell_type": "code",
      "metadata": {
        "id": "318ueZL01kFi",
        "outputId": "002dbff8-2075-4cc2-84b5-fd1debdfbaeb",
        "colab": {
          "base_uri": "https://localhost:8080/",
          "height": 386
        }
      },
      "source": [
        "import seaborn as sns\n",
        "sns.displot(train_data, x=\"text_len\", binwidth=1)"
      ],
      "execution_count": null,
      "outputs": [
        {
          "output_type": "execute_result",
          "data": {
            "text/plain": [
              "<seaborn.axisgrid.FacetGrid at 0x7f9c5227a518>"
            ]
          },
          "metadata": {
            "tags": []
          },
          "execution_count": 14
        },
        {
          "output_type": "display_data",
          "data": {
            "image/png": "[encoded data removed]",
            "text/plain": [
              "<Figure size 360x360 with 1 Axes>"
            ]
          },
          "metadata": {
            "tags": [],
            "needs_background": "light"
          }
        }
      ]
    },
    {
      "cell_type": "code",
      "metadata": {
        "id": "P90pxlIY46q5",
        "outputId": "208118c5-e116-4e77-ae60-c86a70513513",
        "colab": {
          "base_uri": "https://localhost:8080/"
        }
      },
      "source": [
        "train_data.text_len.describe()"
      ],
      "execution_count": null,
      "outputs": [
        {
          "output_type": "execute_result",
          "data": {
            "text/plain": [
              "count    10232.000000\n",
              "mean       106.949668\n",
              "std         59.912564\n",
              "min         11.000000\n",
              "25%         73.000000\n",
              "50%         99.000000\n",
              "75%        133.000000\n",
              "max       3192.000000\n",
              "Name: text_len, dtype: float64"
            ]
          },
          "metadata": {
            "tags": []
          },
          "execution_count": 15
        }
      ]
    },
    {
      "cell_type": "markdown",
      "metadata": {
        "id": "sy2Sm9T7g5Kx"
      },
      "source": [
        "Apparently those are .json files which were not stored properly and represent multiple comments with their labels and some additional information, such as text tag, etc. in the same row."
      ]
    },
    {
      "cell_type": "code",
      "metadata": {
        "id": "AaUtSrd3r5lS",
        "outputId": "8bb20533-f548-48c4-dae1-06f004037d36",
        "colab": {
          "base_uri": "https://localhost:8080/"
        }
      },
      "source": [
        "train_data.Text[train_data.text_len > 500].values"
      ],
      "execution_count": null,
      "outputs": [
        {
          "output_type": "execute_result",
          "data": {
            "text/plain": [
              "array(['Hospitals, doctors, MRIs, surgeries and so forth are more extensively used and far more expensive in this country than they are in many other countries.\\'\\'\\thealth-care\\tmitt-romney\\tFormer governor\\tMassachusetts\\trepublican\\t34\\t32\\t58\\t33\\t19\\ta Fox News Sunday interview\\n9874.json\\tbarely-true\\tObamacare cuts seniors Medicare.\\thealth-care,medicare\\ted-gillespie\\tRepublican strategist\\tWashington, D.C.\\trepublican\\t2\\t3\\t2\\t2\\t1\\ta campaign email.\\n3072.json\\tmostly-true\\tThe refusal of many federal employees to fly coach costs taxpayers $146 million annually.\\tgovernment-efficiency,transparency\\tnewsmax\\tMagazine and website\\tFlorida\\tnone\\t0\\t0\\t0\\t1\\t0\\tan e-mail solicitation\\n2436.json\\tmostly-true\\tFlorida spends more than $300 million a year just on children repeating pre-K through 3rd grade.\\teducation\\talex-sink\\t\\tFlorida\\tdemocrat\\t1\\t2\\t2\\t4\\t0\\tfigures cites on campaign website\\n9721.json\\ttrue\\tMilwaukee County Sheriff David A. Clarke Jr. advised citizens to point that barrel center mass and pull the trigger because 911 is not our best option.\\tcrime,criminal-justice,guns,legal-issues\\tgreater-wisconsin-political-fund\\t\\tWisconsin\\tnone\\t3\\t3\\t3\\t1\\t1\\ta campaign TV ad\\n3627.json\\tfalse\\tAlmost 37 percent of the total income from Planned Parenthood is from abortions.\\tabortion\\tronald-renuart\\tState Representative\\tFlorida\\trepublican\\t0\\t1\\t0\\t0\\t0\\tcomments during a committee hearing\\n11900.json\\thalf-true\\tThe United States has the highest rate of childhood poverty of almost any major country on Earth.\\tchildren,poverty\\tbernie-s\\tU.S. Senator\\tVermont\\tindependent\\t18\\t12\\t22\\t41\\t0\\tcomments during the PBS Democratic debate\\n4611.json\\ttrue\\tUnder Governor Almond the RI DMV had a program that allowed undocumented [people to] use their Personal Tax Identification Number . . . to apply [for] and receive a RI drivers license.\\tcivil-rights,homeland-security,immigration,public-safety,transportation,workers\\tdavid-quiroa\\tprresident, Guatemalan-American Alliance of Rhode Island\\tRhode Island\\tnewsmaker\\t0\\t0\\t0\\t0\\t0\\ta news release\\n3168.json\\tpants-fire\\tIllegal aliens cost the state of Rhode Island $400 million a year.\\tcensus,crime,education,health-care,immigration,state-budget,taxes\\tterry-gorman\\tPresident, Rhode Islanders for Immigration Law Enforcement\\tRhode Island\\tnewsmaker\\t1\\t0\\t0\\t0\\t1\\ta radio interview\\n6832.json\\tpants-fire\\tSays Eric Cantor voted to assure Congress would be paid if the government shut down and against guaranteeing troops would be paid.\\tcongressional-rules,federal-budget,military\\twayne-powell\\tlawyer\\tVirginia\\tdemocrat\\t1\\t1\\t0\\t0\\t1\\ta debate.\\n5893.json\\tmostly-true\\tIf Congress froze the current spending level and then cut it by 2 percent annually, we could balance the budget in five years.\\tdeficit,federal-budget\\tjamie-radtke\\t\\tVirginia\\trepublican\\t1\\t1\\t1\\t2\\t0\\ta statement\\n3304.json\\ttrue\\tEvery (Wisconsin) legislator that votes for this bill will have to give up the same amount of pay as other state employees.\\tlabor,state-budget\\tjeff-fitzgerald\\tIncoming speaker of state Assembly\\tWisconsin\\trepublican\\t2\\t0\\t1\\t2\\t2\\tan interview on the Fox News Channel\\n1638.json\\thalf-true\\tMarco Rubio controlled funds that out of the $600,000 that were raised, only $4,000 went to candidates to try to improve their chances to be elected to office.\"',\n",
              "       'The fact is that although we have had a president who is opposed to abortion over the last eight years, abortions have not gone down.\\'\\'\\tabortion\\tbarack-obama\\tPresident\\tIllinois\\tdemocrat\\t70\\t71\\t160\\t163\\t9\\ta TV interview with megachurch pastor Rick Warren in Lake Forest, Calif.\\n2724.json\\ttrue\\tMost of the jobs that we lost were lost before the economic policies we put in place had any effect.\\teconomy,job-accomplishments,jobs,stimulus\\tbarack-obama\\tPresident\\tIllinois\\tdemocrat\\t70\\t71\\t160\\t163\\t9\\tan interview on The Daily Show with Jon Stewart\"',\n",
              "       'Georgia has the most restrictive ballot access laws in the country.\\telections\\tmary-n\\t\\t\\tindependent\\t0\\t0\\t0\\t0\\t0\\ta television interview\\n3666.json\\tfalse\\tOn whether the federal debt limit should be raised\\tfederal-budget\\tbarack-obama\\tPresident\\tIllinois\\tdemocrat\\t70\\t71\\t160\\t163\\t9\\tan interview with George Stephanopoulos\\n4608.json\\thalf-true\\tWhen George W. Bush was governor of Texas, the percentage uninsured went down. Under his successor, Rick Perry, its gone up.\\tchildren,health-care,new-hampshire-2012\\tmitt-romney\\tFormer governor\\tMassachusetts\\trepublican\\t34\\t32\\t58\\t33\\t19\\ta Republicam debate in Hanover, N.H.\\n11023.json\\tfalse\\tSays his book,The Art of the Deal,is the No. 1 selling business book of all time.\\tcandidates-biography,job-accomplishments\\tdonald-trump\\tPresident-Elect\\tNew York\\trepublican\\t63\\t114\\t51\\t37\\t61\\tremarks on CNN.\\n2096.json\\thalf-true\\tDemocrats in the 1930s wanted President Franklin Roosevelt to be more conservative.\\thistory,pundits,abc-news-week\\tgeorge-will\\tColumnist\\tMaryland\\tcolumnist\\t7\\t6\\t3\\t5\\t1\\ta roundtable discussion on ABC\\'s This Week\\n12853.json\\ttrue\\tSays Danny Tarkanian wants to defund Planned Parenthood and would outlaw a womans right to choose, even in cases of rape or incest.\\tabortion\\tjacky-rosen\\t\\tNevada\\tdemocrat\\t0\\t0\\t0\\t0\\t0\\ta press release.\\n12670.json\\tpants-fire\\tCondemning violence against the police and urging support for the police is markedly absent from President Barack Obamas public remarks.\\tcriminal-justice\\twilliam-johnson\\t\\t\\torganization\\t0\\t0\\t0\\t0\\t1\\tan interview on Fox News\\n1508.json\\thalf-true\\tFlorida leads the nation in elected officials charged with crimes.\"',\n",
              "       'The vast majority of the money I got was from small donors all across the country.\\'\\'\\tcampaign-finance\\tbarack-obama\\tPresident\\tIllinois\\tdemocrat\\t70\\t71\\t160\\t163\\t9\\tan interview with CNBC\\'s John Harwood \\n5802.json\\ttrue\\tThe Democrat-controlled Senate, it hasnt passed a budget in more than 1,000 days.\\tdeficit,federal-budget,job-accomplishments\\tjohn-boehner\\tSpeaker of the House of Representatives\\tOhio\\trepublican\\t13\\t22\\t11\\t4\\t2\\ta video address\\n6153.json\\thalf-true\\tThe median income in America has dropped by 10 percent in the last four years.\\teconomy,income,jobs\\tmitt-romney\\tFormer governor\\tMassachusetts\\trepublican\\t34\\t32\\t58\\t33\\t19\\ta speech\\n6515.json\\tbarely-true\\tSays U.S. Senate hopeful Tammy Baldwin voted for a $1 trillion stimulus bill that included a wasteful $800,000 to replace light bulbs.\\tenergy,federal-budget,stimulus\\tcrossroads-gps\\tConservative advocacy group\\t\\trepublican\\t9\\t1\\t4\\t1\\t2\\ta television ad\\n385.json\\ttrue\\tSays Clinton did not read the National Intelligence Estimate before voting for the Iraq war.\\tiraq\\tbarack-obama\\tPresident\\tIllinois\\tdemocrat\\t70\\t71\\t160\\t163\\t9\\ta speech in Westerville, Ohio\\n10932.json\\tbarely-true\\tThanks to the Act 10 collective bargaining law that took effect four years ago, ACT scores in Wisconsin are now second-best in the country for states where more than half the kids take the exam.\\teducation,government-regulation,job-accomplishments,labor,unions\\tscott-walker\\tMilwaukee County Executive\\tWisconsin\\trepublican\\t26\\t41\\t32\\t40\\t11\\ta speech\\n5076.json\\tmostly-true\\tOur income, our GDP per capita, is almost 50 percent higher than (it is for) the average European.\\teconomy\\tmitt-romney\\tFormer governor\\tMassachusetts\\trepublican\\t34\\t32\\t58\\t33\\t19\\tan editorial board meeting with an Iowa newspaper\\n12189.json\\thalf-true\\tSays Rick Scott cut Medicaid so people cant get Obamacare.\\thealth-care,medicaid\\trick-scotts-starbucks-heckler\\tActivist, stay-at-home mom\\tFlorida\\tactivist\\t0\\t0\\t2\\t0\\t0\\ta confrontation with Rick Scott at Starbucks\\n945.json\\thalf-true\\tThe stimulus bill includes $8 billion for high-speed rail projects, such as a \\'magnetic levitation\\' line from Las Vegas to Disneyland.\"'],\n",
              "      dtype=object)"
            ]
          },
          "metadata": {
            "tags": []
          },
          "execution_count": 16
        }
      ]
    },
    {
      "cell_type": "markdown",
      "metadata": {
        "id": "ePE-wDp-h4SL"
      },
      "source": [
        "To address this problem we will use json_splitter function created to drop those rows and append the data frame with the 'clean' comments and their labels."
      ]
    },
    {
      "cell_type": "code",
      "metadata": {
        "id": "ZLgBXRkHmU_d"
      },
      "source": [
        "df_aux, ids = json_splitter(train_data.Text)\n",
        "train_data = train_data[~train_data.index.isin(ids)]\n",
        "train_data = pd.concat([train_data, df_aux], axis = 0, ignore_index = True)"
      ],
      "execution_count": null,
      "outputs": []
    },
    {
      "cell_type": "markdown",
      "metadata": {
        "id": "jgJc4STQmNEh"
      },
      "source": [
        "# Text Analysis"
      ]
    },
    {
      "cell_type": "markdown",
      "metadata": {
        "id": "cufVwJ8vmoLA"
      },
      "source": [
        "**Target variable**\n",
        "\n",
        "*For more readability we are going the replace the \n",
        "integer values with their definitions.*"
      ]
    },
    {
      "cell_type": "code",
      "metadata": {
        "id": "-zpNopiJmyZz"
      },
      "source": [
        "label_dict = {0: 'Barely-True', 1: 'False', 2: 'Half-True', \n",
        "                  3: 'Mostly-True', 4: 'Not-Known', 5: 'True'}\n",
        "train_data['label_text'] = train_data['Labels'].map(label_dict)"
      ],
      "execution_count": null,
      "outputs": []
    },
    {
      "cell_type": "markdown",
      "metadata": {
        "id": "Z5kdMj4IoahC"
      },
      "source": [
        "As the below plot shows there are 6 categories to be predicted. \n",
        "\n",
        "*   8% of the data, labeled as 'Not-Known', will present the main challenge at the stage of the prediction, as each of its comments belongs to one of the rest of the labels and therefore will confuse the model.\n",
        "*   Even though we could potentially call it a balanced data set, some of the other labels aren't very clear/different from each other, such as Half-True and Barely-True. Their ambiguousness will add nothing but noise to the model.\n"
      ]
    },
    {
      "cell_type": "code",
      "metadata": {
        "id": "f82JxhpusLHT",
        "outputId": "e0ff4942-299d-4828-eae8-068d9edda5bd",
        "colab": {
          "base_uri": "https://localhost:8080/"
        }
      },
      "source": [
        "train_data.label_text.value_counts(normalize = True)"
      ],
      "execution_count": null,
      "outputs": [
        {
          "output_type": "execute_result",
          "data": {
            "text/plain": [
              "Half-True      0.206903\n",
              "False          0.194325\n",
              "Mostly-True    0.191595\n",
              "True           0.163904\n",
              "Barely-True    0.161466\n",
              "Not-Known      0.081806\n",
              "Name: label_text, dtype: float64"
            ]
          },
          "metadata": {
            "tags": []
          },
          "execution_count": 19
        }
      ]
    },
    {
      "cell_type": "code",
      "metadata": {
        "id": "VyQxMJ4YmlhW",
        "outputId": "a6615c7f-774b-4372-9bd9-682a782d5241",
        "colab": {
          "base_uri": "https://localhost:8080/",
          "height": 350
        }
      },
      "source": [
        "sns.countplot(train_data.label_text)\n",
        "plt.xlabel('Labels')"
      ],
      "execution_count": null,
      "outputs": [
        {
          "output_type": "stream",
          "text": [
            "/usr/local/lib/python3.6/dist-packages/seaborn/_decorators.py:43: FutureWarning: Pass the following variable as a keyword arg: x. From version 0.12, the only valid positional argument will be `data`, and passing other arguments without an explicit keyword will result in an error or misinterpretation.\n",
            "  FutureWarning\n"
          ],
          "name": "stderr"
        },
        {
          "output_type": "execute_result",
          "data": {
            "text/plain": [
              "Text(0.5, 0, 'Labels')"
            ]
          },
          "metadata": {
            "tags": []
          },
          "execution_count": 20
        },
        {
          "output_type": "display_data",
          "data": {
            "image/png": "[encoded data removed]",
            "text/plain": [
              "<Figure size 432x288 with 1 Axes>"
            ]
          },
          "metadata": {
            "tags": [],
            "needs_background": "light"
          }
        }
      ]
    },
    {
      "cell_type": "markdown",
      "metadata": {
        "id": "OvkF69sT5c7N"
      },
      "source": [
        "**Part of speech analysis**"
      ]
    },
    {
      "cell_type": "markdown",
      "metadata": {
        "id": "HiBDS43X4Ai-"
      },
      "source": [
        "According to the plots and statistics below\n",
        "\n",
        "*   fake news have fewer adjectives(ADJ), nouns, prepositions(ADP) and adverbs(ADV), while having more verbs, which means that there is more 'action' focus of the fake news;\n",
        "*   interestingly on average there are fewer pronouns used by those who fake news, that minimizes references to themselves. A person who is lying tends not to use 'we' and 'I', i.e. tends not to use personal pronouns; \n",
        "*   Even though on average there are more notions proper nouns(PROPN) in fake news, numbers are more common among real news(NUM) which implies more details in the latter."
      ]
    },
    {
      "cell_type": "code",
      "metadata": {
        "id": "1BstgfJmw7Ci",
        "outputId": "25d7f73d-c09f-4576-9e7c-0c14e03c1981",
        "colab": {
          "base_uri": "https://localhost:8080/",
          "height": 1000
        }
      },
      "source": [
        "ps = spacy_counter(train_data, 'part_of_speech', 'Text', 'label_text')"
      ],
      "execution_count": null,
      "outputs": [
        {
          "output_type": "display_data",
          "data": {
            "image/png": "[encoded data removed]",
            "text/plain": [
              "<Figure size 432x288 with 6 Axes>"
            ]
          },
          "metadata": {
            "tags": [],
            "needs_background": "light"
          }
        },
        {
          "output_type": "display_data",
          "data": {
            "image/png": "[encoded data removed]",
            "text/plain": [
              "<Figure size 432x288 with 6 Axes>"
            ]
          },
          "metadata": {
            "tags": [],
            "needs_background": "light"
          }
        },
        {
          "output_type": "display_data",
          "data": {
            "image/png": "[encoded data removed]",
            "text/plain": [
              "<Figure size 432x288 with 6 Axes>"
            ]
          },
          "metadata": {
            "tags": [],
            "needs_background": "light"
          }
        },
        {
          "output_type": "display_data",
          "data": {
            "image/png": "[encoded data removed]",
            "text/plain": [
              "<Figure size 432x288 with 6 Axes>"
            ]
          },
          "metadata": {
            "tags": [],
            "needs_background": "light"
          }
        },
        {
          "output_type": "display_data",
          "data": {
            "image/png": "[encoded data removed]",
            "text/plain": [
              "<Figure size 432x288 with 6 Axes>"
            ]
          },
          "metadata": {
            "tags": [],
            "needs_background": "light"
          }
        },
        {
          "output_type": "display_data",
          "data": {
            "image/png": "[encoded data removed]",
            "text/plain": [
              "<Figure size 432x288 with 6 Axes>"
            ]
          },
          "metadata": {
            "tags": [],
            "needs_background": "light"
          }
        },
        {
          "output_type": "display_data",
          "data": {
            "image/png": "[encoded data removed]",
            "text/plain": [
              "<Figure size 432x288 with 6 Axes>"
            ]
          },
          "metadata": {
            "tags": [],
            "needs_background": "light"
          }
        },
        {
          "output_type": "display_data",
          "data": {
            "image/png": "[encoded data removed]",
            "text/plain": [
              "<Figure size 432x288 with 6 Axes>"
            ]
          },
          "metadata": {
            "tags": [],
            "needs_background": "light"
          }
        }
      ]
    },
    {
      "cell_type": "code",
      "metadata": {
        "id": "t49Hkn8d6xMR",
        "outputId": "212577e3-c02f-44bd-9503-22eef5bc8c90",
        "colab": {
          "base_uri": "https://localhost:8080/"
        }
      },
      "source": [
        "c = ['ADJ', 'ADP', 'ADV', 'NOUN', 'NUM', 'PRON', 'PROPN', 'VERB']\n",
        "statsByLabel(train_data, c, 'label_text')"
      ],
      "execution_count": null,
      "outputs": [
        {
          "output_type": "stream",
          "text": [
            "                  ADJ\n",
            "label_text           \n",
            "Barely-True  1.206522\n",
            "False        1.065228\n",
            "Half-True    1.298775\n",
            "Mostly-True  1.359796\n",
            "Not-Known    1.019070\n",
            "True         1.333730\n",
            "                  ADP\n",
            "label_text           \n",
            "Barely-True  2.059179\n",
            "False        1.953838\n",
            "Half-True    2.248822\n",
            "Mostly-True  2.183206\n",
            "Not-Known    1.886770\n",
            "True         2.172516\n",
            "                  ADV\n",
            "label_text           \n",
            "Barely-True  0.592995\n",
            "False        0.600602\n",
            "Half-True    0.623940\n",
            "Mostly-True  0.724682\n",
            "Not-Known    0.556615\n",
            "True         0.651993\n",
            "                 NOUN\n",
            "label_text           \n",
            "Barely-True  4.146135\n",
            "False        3.856498\n",
            "Half-True    4.392554\n",
            "Mostly-True  4.309924\n",
            "Not-Known    3.760429\n",
            "True         4.171921\n",
            "                  NUM\n",
            "label_text           \n",
            "Barely-True  0.736715\n",
            "False        0.636227\n",
            "Half-True    0.911876\n",
            "Mostly-True  0.972010\n",
            "Not-Known    0.518474\n",
            "True         0.878644\n",
            "                 PRON\n",
            "label_text           \n",
            "Barely-True  0.622585\n",
            "False        0.559458\n",
            "Half-True    0.601320\n",
            "Mostly-True  0.591349\n",
            "Not-Known    0.597139\n",
            "True         0.624033\n",
            "                PROPN\n",
            "label_text           \n",
            "Barely-True  2.486715\n",
            "False        2.334671\n",
            "Half-True    2.301602\n",
            "Mostly-True  2.055471\n",
            "Not-Known    2.785459\n",
            "True         2.055919\n",
            "                 VERB\n",
            "label_text           \n",
            "Barely-True  2.559179\n",
            "False        2.269443\n",
            "Half-True    2.428369\n",
            "Mostly-True  2.205598\n",
            "Not-Known    2.466031\n",
            "True         2.117787\n"
          ],
          "name": "stdout"
        }
      ]
    },
    {
      "cell_type": "markdown",
      "metadata": {
        "id": "PdnMpJ7z-4PJ"
      },
      "source": [
        "**Entety analysis**"
      ]
    },
    {
      "cell_type": "markdown",
      "metadata": {
        "id": "IUWsyCqfDYQB"
      },
      "source": [
        "Even though famous people a slightly more common to be discussed in fake news, when it comes to more specific details such as time, geographic location(GPE), date and numbers (both ordinal and cardinal), real news contain more of it."
      ]
    },
    {
      "cell_type": "code",
      "metadata": {
        "id": "hfHchjj9-_sA",
        "outputId": "43be098f-f120-4f5b-9170-6575afb188d8",
        "colab": {
          "base_uri": "https://localhost:8080/",
          "height": 1000
        }
      },
      "source": [
        "check_ent = spacy_counter(train_data, 'entety_label', 'Text', 'label_text')"
      ],
      "execution_count": null,
      "outputs": [
        {
          "output_type": "stream",
          "text": [
            "/usr/local/lib/python3.6/dist-packages/matplotlib/backends/backend_agg.py:214: RuntimeWarning: Glyph 9 missing from current font.\n",
            "  font.set_text(s, 0.0, flags=flags)\n",
            "/usr/local/lib/python3.6/dist-packages/matplotlib/backends/backend_agg.py:183: RuntimeWarning: Glyph 9 missing from current font.\n",
            "  font.set_text(s, 0, flags=flags)\n"
          ],
          "name": "stderr"
        },
        {
          "output_type": "display_data",
          "data": {
            "image/png": "[encoded data removed]",
            "text/plain": [
              "<Figure size 432x288 with 6 Axes>"
            ]
          },
          "metadata": {
            "tags": [],
            "needs_background": "light"
          }
        },
        {
          "output_type": "display_data",
          "data": {
            "image/png": "[encoded data removed]",
            "text/plain": [
              "<Figure size 432x288 with 6 Axes>"
            ]
          },
          "metadata": {
            "tags": [],
            "needs_background": "light"
          }
        },
        {
          "output_type": "display_data",
          "data": {
            "image/png": "[encoded data removed]",
            "text/plain": [
              "<Figure size 432x288 with 6 Axes>"
            ]
          },
          "metadata": {
            "tags": [],
            "needs_background": "light"
          }
        },
        {
          "output_type": "display_data",
          "data": {
            "image/png": "[encoded data removed]",
            "text/plain": [
              "<Figure size 432x288 with 6 Axes>"
            ]
          },
          "metadata": {
            "tags": [],
            "needs_background": "light"
          }
        },
        {
          "output_type": "display_data",
          "data": {
            "image/png": "[encoded data removed]",
            "text/plain": [
              "<Figure size 432x288 with 6 Axes>"
            ]
          },
          "metadata": {
            "tags": [],
            "needs_background": "light"
          }
        },
        {
          "output_type": "display_data",
          "data": {
            "image/png": "[encoded data removed]",
            "text/plain": [
              "<Figure size 432x288 with 6 Axes>"
            ]
          },
          "metadata": {
            "tags": [],
            "needs_background": "light"
          }
        }
      ]
    },
    {
      "cell_type": "code",
      "metadata": {
        "id": "ry-BK0Mw_X-N",
        "outputId": "6f285084-2b15-4f00-dbab-091dea1e4d86",
        "colab": {
          "base_uri": "https://localhost:8080/"
        }
      },
      "source": [
        "c = ['PERSON', 'GPE', 'DATE', 'TIME', 'ORDINAL', 'CARDINAL']\n",
        "statsByLabel(train_data, c, 'label_text')"
      ],
      "execution_count": null,
      "outputs": [
        {
          "output_type": "stream",
          "text": [
            "               PERSON\n",
            "label_text           \n",
            "Barely-True  0.495169\n",
            "False        0.435023\n",
            "Half-True    0.411876\n",
            "Mostly-True  0.331807\n",
            "Not-Known    0.570918\n",
            "True         0.323617\n",
            "                  GPE\n",
            "label_text           \n",
            "Barely-True  0.352657\n",
            "False        0.356749\n",
            "Half-True    0.423657\n",
            "Mostly-True  0.417303\n",
            "Not-Known    0.381406\n",
            "True         0.407496\n",
            "                 DATE\n",
            "label_text           \n",
            "Barely-True  0.220411\n",
            "False        0.205720\n",
            "Half-True    0.275212\n",
            "Mostly-True  0.322137\n",
            "Not-Known    0.187128\n",
            "True         0.318263\n",
            "                 TIME\n",
            "label_text           \n",
            "Barely-True  0.014493\n",
            "False        0.008530\n",
            "Half-True    0.008011\n",
            "Mostly-True  0.009669\n",
            "Not-Known    0.003576\n",
            "True         0.010708\n",
            "              ORDINAL\n",
            "label_text           \n",
            "Barely-True  0.028382\n",
            "False        0.033618\n",
            "Half-True    0.038643\n",
            "Mostly-True  0.050382\n",
            "Not-Known    0.019070\n",
            "True         0.052350\n",
            "             CARDINAL\n",
            "label_text           \n",
            "Barely-True  0.212560\n",
            "False        0.198194\n",
            "Half-True    0.297361\n",
            "Mostly-True  0.321120\n",
            "Not-Known    0.174017\n",
            "True         0.294468\n"
          ],
          "name": "stdout"
        }
      ]
    },
    {
      "cell_type": "markdown",
      "metadata": {
        "id": "HevwLOjwExdo"
      },
      "source": [
        "**Stop words analysis**"
      ]
    },
    {
      "cell_type": "markdown",
      "metadata": {
        "id": "_fxaSYXjE1on"
      },
      "source": [
        "As for the stop words, on average there are fewer of them in fake news which make it more concise and brief."
      ]
    },
    {
      "cell_type": "code",
      "metadata": {
        "id": "P6WAy4Kf_4UN",
        "outputId": "eb196cb4-c722-4ae9-a78a-89daefe2939a",
        "colab": {
          "base_uri": "https://localhost:8080/",
          "height": 1000
        }
      },
      "source": [
        "spacy_counter(train_data, 'stop_words', 'Text', 'label_text')"
      ],
      "execution_count": null,
      "outputs": [
        {
          "output_type": "execute_result",
          "data": {
            "text/html": [
              "<div>\n",
              "<style scoped>\n",
              "    .dataframe tbody tr th:only-of-type {\n",
              "        vertical-align: middle;\n",
              "    }\n",
              "\n",
              "    .dataframe tbody tr th {\n",
              "        vertical-align: top;\n",
              "    }\n",
              "\n",
              "    .dataframe thead th {\n",
              "        text-align: right;\n",
              "    }\n",
              "</style>\n",
              "<table border=\"1\" class=\"dataframe\">\n",
              "  <thead>\n",
              "    <tr style=\"text-align: right;\">\n",
              "      <th></th>\n",
              "      <th>Labels</th>\n",
              "      <th>Text</th>\n",
              "      <th>Text_Tag</th>\n",
              "      <th>text_len</th>\n",
              "      <th>label_text</th>\n",
              "      <th>ADJ</th>\n",
              "      <th>ADP</th>\n",
              "      <th>ADV</th>\n",
              "      <th>NOUN</th>\n",
              "      <th>NUM</th>\n",
              "      <th>PRON</th>\n",
              "      <th>PROPN</th>\n",
              "      <th>VERB</th>\n",
              "      <th>PERSON</th>\n",
              "      <th>GPE</th>\n",
              "      <th>DATE</th>\n",
              "      <th>TIME</th>\n",
              "      <th>ORDINAL</th>\n",
              "      <th>CARDINAL</th>\n",
              "      <th>STOP_WORDS</th>\n",
              "    </tr>\n",
              "  </thead>\n",
              "  <tbody>\n",
              "    <tr>\n",
              "      <th>0</th>\n",
              "      <td>1</td>\n",
              "      <td>Says the Annies List political group supports ...</td>\n",
              "      <td>abortion</td>\n",
              "      <td>82</td>\n",
              "      <td>False</td>\n",
              "      <td>2</td>\n",
              "      <td>1</td>\n",
              "      <td>0</td>\n",
              "      <td>4</td>\n",
              "      <td>0</td>\n",
              "      <td>0</td>\n",
              "      <td>2</td>\n",
              "      <td>2</td>\n",
              "      <td>0</td>\n",
              "      <td>0</td>\n",
              "      <td>0</td>\n",
              "      <td>0</td>\n",
              "      <td>1</td>\n",
              "      <td>0</td>\n",
              "      <td>3</td>\n",
              "    </tr>\n",
              "    <tr>\n",
              "      <th>1</th>\n",
              "      <td>2</td>\n",
              "      <td>When did the decline of coal start? It started...</td>\n",
              "      <td>energy,history,job-accomplishments</td>\n",
              "      <td>141</td>\n",
              "      <td>Half-True</td>\n",
              "      <td>1</td>\n",
              "      <td>3</td>\n",
              "      <td>2</td>\n",
              "      <td>5</td>\n",
              "      <td>0</td>\n",
              "      <td>1</td>\n",
              "      <td>4</td>\n",
              "      <td>4</td>\n",
              "      <td>1</td>\n",
              "      <td>0</td>\n",
              "      <td>0</td>\n",
              "      <td>0</td>\n",
              "      <td>0</td>\n",
              "      <td>0</td>\n",
              "      <td>8</td>\n",
              "    </tr>\n",
              "    <tr>\n",
              "      <th>2</th>\n",
              "      <td>3</td>\n",
              "      <td>Hillary Clinton agrees with John McCain \"by vo...</td>\n",
              "      <td>foreign-policy</td>\n",
              "      <td>105</td>\n",
              "      <td>Mostly-True</td>\n",
              "      <td>0</td>\n",
              "      <td>4</td>\n",
              "      <td>0</td>\n",
              "      <td>2</td>\n",
              "      <td>0</td>\n",
              "      <td>0</td>\n",
              "      <td>7</td>\n",
              "      <td>3</td>\n",
              "      <td>3</td>\n",
              "      <td>1</td>\n",
              "      <td>0</td>\n",
              "      <td>0</td>\n",
              "      <td>0</td>\n",
              "      <td>0</td>\n",
              "      <td>8</td>\n",
              "    </tr>\n",
              "    <tr>\n",
              "      <th>3</th>\n",
              "      <td>1</td>\n",
              "      <td>Health care reform legislation is likely to ma...</td>\n",
              "      <td>health-care</td>\n",
              "      <td>78</td>\n",
              "      <td>False</td>\n",
              "      <td>2</td>\n",
              "      <td>0</td>\n",
              "      <td>0</td>\n",
              "      <td>7</td>\n",
              "      <td>0</td>\n",
              "      <td>0</td>\n",
              "      <td>0</td>\n",
              "      <td>1</td>\n",
              "      <td>0</td>\n",
              "      <td>0</td>\n",
              "      <td>0</td>\n",
              "      <td>0</td>\n",
              "      <td>0</td>\n",
              "      <td>0</td>\n",
              "      <td>2</td>\n",
              "    </tr>\n",
              "    <tr>\n",
              "      <th>4</th>\n",
              "      <td>2</td>\n",
              "      <td>The economic turnaround started at the end of ...</td>\n",
              "      <td>economy,jobs</td>\n",
              "      <td>54</td>\n",
              "      <td>Half-True</td>\n",
              "      <td>1</td>\n",
              "      <td>2</td>\n",
              "      <td>0</td>\n",
              "      <td>3</td>\n",
              "      <td>0</td>\n",
              "      <td>0</td>\n",
              "      <td>0</td>\n",
              "      <td>1</td>\n",
              "      <td>0</td>\n",
              "      <td>0</td>\n",
              "      <td>0</td>\n",
              "      <td>0</td>\n",
              "      <td>0</td>\n",
              "      <td>0</td>\n",
              "      <td>4</td>\n",
              "    </tr>\n",
              "    <tr>\n",
              "      <th>...</th>\n",
              "      <td>...</td>\n",
              "      <td>...</td>\n",
              "      <td>...</td>\n",
              "      <td>...</td>\n",
              "      <td>...</td>\n",
              "      <td>...</td>\n",
              "      <td>...</td>\n",
              "      <td>...</td>\n",
              "      <td>...</td>\n",
              "      <td>...</td>\n",
              "      <td>...</td>\n",
              "      <td>...</td>\n",
              "      <td>...</td>\n",
              "      <td>...</td>\n",
              "      <td>...</td>\n",
              "      <td>...</td>\n",
              "      <td>...</td>\n",
              "      <td>...</td>\n",
              "      <td>...</td>\n",
              "      <td>...</td>\n",
              "    </tr>\n",
              "    <tr>\n",
              "      <th>10251</th>\n",
              "      <td>5</td>\n",
              "      <td>Says U.S. Senate hopeful Tammy Baldwin voted f...</td>\n",
              "      <td>NaN</td>\n",
              "      <td>134</td>\n",
              "      <td>True</td>\n",
              "      <td>3</td>\n",
              "      <td>1</td>\n",
              "      <td>0</td>\n",
              "      <td>3</td>\n",
              "      <td>3</td>\n",
              "      <td>0</td>\n",
              "      <td>4</td>\n",
              "      <td>4</td>\n",
              "      <td>1</td>\n",
              "      <td>0</td>\n",
              "      <td>0</td>\n",
              "      <td>0</td>\n",
              "      <td>0</td>\n",
              "      <td>0</td>\n",
              "      <td>5</td>\n",
              "    </tr>\n",
              "    <tr>\n",
              "      <th>10252</th>\n",
              "      <td>0</td>\n",
              "      <td>Says Clinton did not read the National Intelli...</td>\n",
              "      <td>NaN</td>\n",
              "      <td>92</td>\n",
              "      <td>Barely-True</td>\n",
              "      <td>0</td>\n",
              "      <td>2</td>\n",
              "      <td>0</td>\n",
              "      <td>1</td>\n",
              "      <td>0</td>\n",
              "      <td>0</td>\n",
              "      <td>5</td>\n",
              "      <td>3</td>\n",
              "      <td>1</td>\n",
              "      <td>0</td>\n",
              "      <td>0</td>\n",
              "      <td>0</td>\n",
              "      <td>0</td>\n",
              "      <td>0</td>\n",
              "      <td>6</td>\n",
              "    </tr>\n",
              "    <tr>\n",
              "      <th>10253</th>\n",
              "      <td>3</td>\n",
              "      <td>Thanks to the Act 10 collective bargaining law...</td>\n",
              "      <td>NaN</td>\n",
              "      <td>194</td>\n",
              "      <td>Mostly-True</td>\n",
              "      <td>3</td>\n",
              "      <td>4</td>\n",
              "      <td>4</td>\n",
              "      <td>10</td>\n",
              "      <td>2</td>\n",
              "      <td>0</td>\n",
              "      <td>3</td>\n",
              "      <td>2</td>\n",
              "      <td>0</td>\n",
              "      <td>1</td>\n",
              "      <td>1</td>\n",
              "      <td>0</td>\n",
              "      <td>1</td>\n",
              "      <td>1</td>\n",
              "      <td>16</td>\n",
              "    </tr>\n",
              "    <tr>\n",
              "      <th>10254</th>\n",
              "      <td>2</td>\n",
              "      <td>Our income, our GDP per capita, is almost 50 p...</td>\n",
              "      <td>NaN</td>\n",
              "      <td>98</td>\n",
              "      <td>Half-True</td>\n",
              "      <td>2</td>\n",
              "      <td>2</td>\n",
              "      <td>1</td>\n",
              "      <td>4</td>\n",
              "      <td>1</td>\n",
              "      <td>1</td>\n",
              "      <td>1</td>\n",
              "      <td>0</td>\n",
              "      <td>0</td>\n",
              "      <td>0</td>\n",
              "      <td>0</td>\n",
              "      <td>0</td>\n",
              "      <td>0</td>\n",
              "      <td>0</td>\n",
              "      <td>9</td>\n",
              "    </tr>\n",
              "    <tr>\n",
              "      <th>10255</th>\n",
              "      <td>2</td>\n",
              "      <td>Says Rick Scott cut Medicaid so people cant ge...</td>\n",
              "      <td>NaN</td>\n",
              "      <td>58</td>\n",
              "      <td>Half-True</td>\n",
              "      <td>0</td>\n",
              "      <td>0</td>\n",
              "      <td>0</td>\n",
              "      <td>1</td>\n",
              "      <td>0</td>\n",
              "      <td>0</td>\n",
              "      <td>4</td>\n",
              "      <td>3</td>\n",
              "      <td>2</td>\n",
              "      <td>0</td>\n",
              "      <td>0</td>\n",
              "      <td>0</td>\n",
              "      <td>0</td>\n",
              "      <td>0</td>\n",
              "      <td>3</td>\n",
              "    </tr>\n",
              "  </tbody>\n",
              "</table>\n",
              "<p>10256 rows × 20 columns</p>\n",
              "</div>"
            ],
            "text/plain": [
              "       Labels  ... STOP_WORDS\n",
              "0           1  ...          3\n",
              "1           2  ...          8\n",
              "2           3  ...          8\n",
              "3           1  ...          2\n",
              "4           2  ...          4\n",
              "...       ...  ...        ...\n",
              "10251       5  ...          5\n",
              "10252       0  ...          6\n",
              "10253       3  ...         16\n",
              "10254       2  ...          9\n",
              "10255       2  ...          3\n",
              "\n",
              "[10256 rows x 20 columns]"
            ]
          },
          "metadata": {
            "tags": []
          },
          "execution_count": 26
        },
        {
          "output_type": "display_data",
          "data": {
            "image/png": "[encoded data removed]",
            "text/plain": [
              "<Figure size 432x288 with 6 Axes>"
            ]
          },
          "metadata": {
            "tags": [],
            "needs_background": "light"
          }
        }
      ]
    },
    {
      "cell_type": "code",
      "metadata": {
        "id": "YkT_0rL-FJK3",
        "outputId": "75983e32-0031-410c-b880-4b73de804582",
        "colab": {
          "base_uri": "https://localhost:8080/"
        }
      },
      "source": [
        "c = ['STOP_WORDS']\n",
        "statsByLabel(train_data, c, 'label_text')"
      ],
      "execution_count": null,
      "outputs": [
        {
          "output_type": "stream",
          "text": [
            "             STOP_WORDS\n",
            "label_text             \n",
            "Barely-True    7.205918\n",
            "False          6.753638\n",
            "Half-True      7.580113\n",
            "Mostly-True    7.526209\n",
            "Not-Known      6.618594\n",
            "True           7.535990\n"
          ],
          "name": "stdout"
        }
      ]
    },
    {
      "cell_type": "markdown",
      "metadata": {
        "id": "8ZR-P1ZjbyOP"
      },
      "source": [
        "# Preprocessing data"
      ]
    },
    {
      "cell_type": "markdown",
      "metadata": {
        "id": "sIx9h7rqcMyP"
      },
      "source": [
        "We cleaned the text by converting a string to lowercase and removing punctuations, numbers and characters and then striping it.\n",
        "After Stopwords and long spaces were removed we performed Lemmatisation."
      ]
    },
    {
      "cell_type": "code",
      "metadata": {
        "id": "6lyMYdhstXZa"
      },
      "source": [
        "train_data['clean_text'] = train_data.Text.apply(text_cleaner)"
      ],
      "execution_count": null,
      "outputs": []
    },
    {
      "cell_type": "markdown",
      "metadata": {
        "id": "gPYa0eYBcr76"
      },
      "source": [
        "# Splitting the data into train and test"
      ]
    },
    {
      "cell_type": "code",
      "metadata": {
        "id": "buvfg-1e3ElP"
      },
      "source": [
        "dtf_train, dtf_test = model_selection.train_test_split(train_data, \n",
        "                                                       test_size=0.15)\n",
        "\n",
        "y_train = dtf_train['Labels'].values\n",
        "y_test = dtf_test['Labels'].values"
      ],
      "execution_count": null,
      "outputs": []
    },
    {
      "cell_type": "markdown",
      "metadata": {
        "id": "x4ecUb9wKlIA"
      },
      "source": [
        "# Bag-of-Words"
      ]
    },
    {
      "cell_type": "markdown",
      "metadata": {
        "id": "nRZvJjMW4b7u"
      },
      "source": [
        "**Feature Engineering**"
      ]
    },
    {
      "cell_type": "markdown",
      "metadata": {
        "id": "B3PaCkSY4qyY"
      },
      "source": [
        "We are going use the Tf-Idf vectorizer with a limit of 50,000 words (so the length of my vocabulary will be 50k), capturing unigrams (i.e. 'San' and 'Francisco') and bigrams (i.e. 'San Francisco')."
      ]
    },
    {
      "cell_type": "code",
      "metadata": {
        "id": "cfsmeR9Z34fe"
      },
      "source": [
        "vectorizer = feature_extraction.text.TfidfVectorizer(max_features = 50000, ngram_range=(1,2))"
      ],
      "execution_count": null,
      "outputs": []
    },
    {
      "cell_type": "markdown",
      "metadata": {
        "id": "bbvv9_zO4PT7"
      },
      "source": [
        "Let's use vectorizer on the preprocessed corpus of the train set to extract a vocabulary and create the feature matrix."
      ]
    },
    {
      "cell_type": "code",
      "metadata": {
        "id": "eSNZg5J_4Hdl"
      },
      "source": [
        "corpus = dtf_train['clean_text']\n",
        "vectorizer.fit(corpus)\n",
        "X_train = vectorizer.transform(corpus)\n",
        "dic_vocabulary = vectorizer.vocabulary_"
      ],
      "execution_count": null,
      "outputs": []
    },
    {
      "cell_type": "code",
      "metadata": {
        "id": "291uOQ667JVb",
        "outputId": "4d372a56-0049-43c1-f156-4530d4c050a2",
        "colab": {
          "base_uri": "https://localhost:8080/"
        }
      },
      "source": [
        "X_train.shape"
      ],
      "execution_count": null,
      "outputs": [
        {
          "output_type": "execute_result",
          "data": {
            "text/plain": [
              "(8717, 50000)"
            ]
          },
          "metadata": {
            "tags": []
          },
          "execution_count": 58
        }
      ]
    },
    {
      "cell_type": "code",
      "metadata": {
        "id": "5cxHPfRG65EB",
        "outputId": "f50cefa2-1051-4ff4-a45f-7635ba068975",
        "colab": {
          "base_uri": "https://localhost:8080/",
          "height": 298
        }
      },
      "source": [
        "sns.heatmap(\n",
        "    X_train.todense()[:,np.random.randint(0,X_train.shape[1],100)]==0, vmin=0, vmax=1, cbar=False\n",
        "    ).set_title('Sparse Matrix Sample')"
      ],
      "execution_count": null,
      "outputs": [
        {
          "output_type": "execute_result",
          "data": {
            "text/plain": [
              "Text(0.5, 1.0, 'Sparse Matrix Sample')"
            ]
          },
          "metadata": {
            "tags": []
          },
          "execution_count": 59
        },
        {
          "output_type": "display_data",
          "data": {
            "image/png": "[encoded data removed]",
            "text/plain": [
              "<Figure size 432x288 with 1 Axes>"
            ]
          },
          "metadata": {
            "tags": [],
            "needs_background": "light"
          }
        }
      ]
    },
    {
      "cell_type": "markdown",
      "metadata": {
        "id": "mQE2-_iOk76z"
      },
      "source": [
        "# Feature selection"
      ]
    },
    {
      "cell_type": "markdown",
      "metadata": {
        "id": "5W9aDuTG_0DQ"
      },
      "source": [
        "Chi-square test measures dependence between stochastic variables, so using this function 'weeds out' the features that are the most likely to be independent of class and therefore irrelevant for classification."
      ]
    },
    {
      "cell_type": "markdown",
      "metadata": {
        "id": "hoWxo7eSDV8r"
      },
      "source": [
        "I am going to treat each category as binary (for example, the 'Fake' news is 1 for the Fake news and 0 for the others)"
      ]
    },
    {
      "cell_type": "code",
      "metadata": {
        "id": "CyiGtDrr54Ty"
      },
      "source": [
        "y = dtf_train['Labels']\n",
        "X_names = vectorizer.get_feature_names()\n",
        "p_value_limit = 0.85"
      ],
      "execution_count": null,
      "outputs": []
    },
    {
      "cell_type": "code",
      "metadata": {
        "id": "FynNJtC79iEy"
      },
      "source": [
        "dtf_features = pd.DataFrame()\n",
        "for cat in np.unique(y):\n",
        "    chi2, p = feature_selection.chi2(X_train, y==cat)\n",
        "    dtf_features = dtf_features.append(pd.DataFrame(\n",
        "                   {\"feature\":X_names, \"score\":1-p, \"y\":cat}))\n",
        "    dtf_features = dtf_features.sort_values([\"y\",\"score\"], \n",
        "                    ascending=[True,False])\n",
        "    dtf_features = dtf_features[dtf_features[\"score\"]>p_value_limit]\n",
        "X_names = dtf_features[\"feature\"].unique().tolist()"
      ],
      "execution_count": null,
      "outputs": []
    },
    {
      "cell_type": "code",
      "metadata": {
        "id": "x97VpKcgPVUw",
        "outputId": "476f1594-d5b0-4027-8950-eaeac5481859",
        "colab": {
          "base_uri": "https://localhost:8080/"
        }
      },
      "source": [
        "len(dtf_features)"
      ],
      "execution_count": null,
      "outputs": [
        {
          "output_type": "execute_result",
          "data": {
            "text/plain": [
              "5873"
            ]
          },
          "metadata": {
            "tags": []
          },
          "execution_count": 62
        }
      ]
    },
    {
      "cell_type": "markdown",
      "metadata": {
        "id": "qvvqwrekErWR"
      },
      "source": [
        "We reduced the number of features from 7500 to 5910 by keeping the most statistically relevant ones. Let's print them out by label."
      ]
    },
    {
      "cell_type": "code",
      "metadata": {
        "id": "SsQGlWsGDTzW",
        "outputId": "bbe75433-4959-4c76-e4f8-1b0f7729913f",
        "colab": {
          "base_uri": "https://localhost:8080/"
        }
      },
      "source": [
        "for cat in np.unique(y):\n",
        "   print(\"# {}:\".format(cat))\n",
        "   print(\"  . selected features:\",\n",
        "         len(dtf_features[dtf_features[\"y\"]==cat]))\n",
        "   print(\"  . top features:\", \",\".join(\n",
        "dtf_features[dtf_features[\"y\"]==cat][\"feature\"].values[:10]))\n",
        "   print(\" \")"
      ],
      "execution_count": null,
      "outputs": [
        {
          "output_type": "stream",
          "text": [
            "# 0:\n",
            "  . selected features: 593\n",
            "  . top features: decide vote,say billion,federal reserve,fleet,support high,create american,vote obamacare,republicans try,mccain tax,pay woman\n",
            " \n",
            "# 1:\n",
            "  . selected features: 344\n",
            "  . top features: scheme,terry,terry mcauliffe,ponzi scheme,vote tax,debunk,mcauliffe,ponzi,jan,work private\n",
            " \n",
            "# 2:\n",
            "  . selected features: 253\n",
            "  . top features: medicare fraud,cost georgia,dropout,romney governor,outsource,create million,anytime,say oppose,gun people,dropout rate\n",
            " \n",
            "# 3:\n",
            "  . selected features: 321\n",
            "  . top features: high corporate,rate world,dollar man,segregated,pay national,visa,not court,owe,sixth,percent\n",
            " \n",
            "# 4:\n",
            "  . selected features: 3684\n",
            "  . top features: stimulus create,transaction,inch away,socialist,apology tour,begin presidency,obama begin,history world,create zero,zero job\n",
            " \n",
            "# 5:\n",
            "  . selected features: 678\n",
            "  . top features: year record,sen obama,flop abortion,reagan raise,raise debt,percent hispanic,compensation,asset,elect state,court confirm\n",
            " \n"
          ],
          "name": "stdout"
        }
      ]
    },
    {
      "cell_type": "markdown",
      "metadata": {
        "id": "_U46ZbImFT8h"
      },
      "source": [
        "No it's time to refit the vectorizer on the corpus by giving this new set of words as input. That will produce a smaller feature matrix and a shorter vocabulary."
      ]
    },
    {
      "cell_type": "code",
      "metadata": {
        "id": "SC0fFlvkEQTU"
      },
      "source": [
        "vectorizer = feature_extraction.text.TfidfVectorizer(vocabulary = X_names)\n",
        "vectorizer.fit(corpus)\n",
        "X_train = vectorizer.transform(corpus)\n",
        "dic_vocabulary = vectorizer.vocabulary_"
      ],
      "execution_count": null,
      "outputs": []
    },
    {
      "cell_type": "code",
      "metadata": {
        "id": "QtfyTwKWLhT_",
        "outputId": "29303390-422d-49f7-a63b-b21a850a1a15",
        "colab": {
          "base_uri": "https://localhost:8080/"
        }
      },
      "source": [
        "X_train.shape"
      ],
      "execution_count": null,
      "outputs": [
        {
          "output_type": "execute_result",
          "data": {
            "text/plain": [
              "(8717, 5866)"
            ]
          },
          "metadata": {
            "tags": []
          },
          "execution_count": 65
        }
      ]
    },
    {
      "cell_type": "code",
      "metadata": {
        "id": "cbtinlJyFoGe",
        "outputId": "403b155b-1fd2-4dad-c7a8-de09b235d32e",
        "colab": {
          "base_uri": "https://localhost:8080/",
          "height": 298
        }
      },
      "source": [
        "sns.heatmap(\n",
        "    X_train.todense()[:,np.random.randint(0,X_train.shape[1],100)]==0, vmin=0, vmax=1, cbar=False\n",
        "    ).set_title('Sparse Matrix Sample')"
      ],
      "execution_count": null,
      "outputs": [
        {
          "output_type": "execute_result",
          "data": {
            "text/plain": [
              "Text(0.5, 1.0, 'Sparse Matrix Sample')"
            ]
          },
          "metadata": {
            "tags": []
          },
          "execution_count": 66
        },
        {
          "output_type": "display_data",
          "data": {
            "image/png": "[encoded data removed]",
            "text/plain": [
              "<Figure size 432x288 with 1 Axes>"
            ]
          },
          "metadata": {
            "tags": [],
            "needs_background": "light"
          }
        }
      ]
    },
    {
      "cell_type": "markdown",
      "metadata": {
        "id": "SF9l1URaGBZV"
      },
      "source": [
        "# Machine learning model - Naive Bayes"
      ]
    },
    {
      "cell_type": "markdown",
      "metadata": {
        "id": "OczUq5NRF844"
      },
      "source": [
        "Naive Bayes algorithm: a probabilistic classifier that makes use of Bayes’ Theorem, a rule that uses probability to make predictions based on prior knowledge of conditions that might be related. This algorithm is the most suitable for such large dataset as it considers each feature independently, calculates the probability of each category, and then predicts the category with the highest probability."
      ]
    },
    {
      "cell_type": "code",
      "metadata": {
        "id": "-1ma95WTEUia"
      },
      "source": [
        "classifier = naive_bayes.MultinomialNB()"
      ],
      "execution_count": null,
      "outputs": []
    },
    {
      "cell_type": "markdown",
      "metadata": {
        "id": "bP-SH-e4GhUZ"
      },
      "source": [
        "For the training purposes we will use the feature matrix and then test it on the transformed test set. I need to build a scikit-learn pipeline: a sequential application of a list of transformations and a final estimator. "
      ]
    },
    {
      "cell_type": "code",
      "metadata": {
        "id": "uvQh_PjTG4rN"
      },
      "source": [
        "## pipeline\n",
        "model = pipeline.Pipeline([(\"vectorizer\", vectorizer),  \n",
        "                           (\"classifier\", classifier)])\n",
        "## train classifier\n",
        "model[\"classifier\"].fit(X_train, y_train)\n",
        "## test\n",
        "X_test = dtf_test['clean_text'].values\n",
        "predicted = model.predict(X_test)\n",
        "predicted_prob = model.predict_proba(X_test)"
      ],
      "execution_count": null,
      "outputs": []
    },
    {
      "cell_type": "markdown",
      "metadata": {
        "id": "mF_urnGIHXVq"
      },
      "source": [
        "# Model Evaluation"
      ]
    },
    {
      "cell_type": "code",
      "metadata": {
        "id": "NCLcEIDkHbSi",
        "outputId": "1145a8a5-3e97-4de0-e91d-c81f061717f6",
        "colab": {
          "base_uri": "https://localhost:8080/",
          "height": 601
        }
      },
      "source": [
        "classes = np.unique(y_test)\n",
        "y_test_array = pd.get_dummies(y_test, drop_first=False).values\n",
        "    \n",
        "## Accuracy, Precision, Recall\n",
        "accuracy = metrics.accuracy_score(y_test, predicted)\n",
        "auc = metrics.roc_auc_score(y_test, predicted_prob, \n",
        "                            multi_class=\"ovr\")\n",
        "print(\"Accuracy:\",  round(accuracy,2))\n",
        "print(\"Auc:\", round(auc,2))\n",
        "print(\"Detail:\")\n",
        "print(metrics.classification_report(y_test, predicted))\n",
        "    \n",
        "## Plot confusion matrix\n",
        "cm = metrics.confusion_matrix(y_test, predicted)\n",
        "fig, ax = plt.subplots()\n",
        "sns.heatmap(cm, annot=True, fmt='d', ax=ax, cmap=plt.cm.Blues, \n",
        "            cbar=False)\n",
        "ax.set(xlabel=\"Pred\", ylabel=\"True\", xticklabels=classes, \n",
        "       yticklabels=classes, title=\"Confusion matrix\")\n",
        "plt.yticks(rotation=0)"
      ],
      "execution_count": null,
      "outputs": [
        {
          "output_type": "stream",
          "text": [
            "Accuracy: 0.22\n",
            "Auc: 0.56\n",
            "Detail:\n",
            "              precision    recall  f1-score   support\n",
            "\n",
            "           0       0.21      0.07      0.10       246\n",
            "           1       0.22      0.12      0.16       297\n",
            "           2       0.20      0.56      0.30       318\n",
            "           3       0.23      0.30      0.26       279\n",
            "           4       0.33      0.01      0.02       128\n",
            "           5       0.34      0.07      0.11       271\n",
            "\n",
            "    accuracy                           0.22      1539\n",
            "   macro avg       0.26      0.19      0.16      1539\n",
            "weighted avg       0.25      0.22      0.18      1539\n",
            "\n"
          ],
          "name": "stdout"
        },
        {
          "output_type": "execute_result",
          "data": {
            "text/plain": [
              "(array([0.5, 1.5, 2.5, 3.5, 4.5, 5.5]),\n",
              " <a list of 6 Text major ticklabel objects>)"
            ]
          },
          "metadata": {
            "tags": []
          },
          "execution_count": 69
        },
        {
          "output_type": "display_data",
          "data": {
            "image/png": "[encoded data removed]",
            "text/plain": [
              "<Figure size 432x288 with 1 Axes>"
            ]
          },
          "metadata": {
            "tags": [],
            "needs_background": "light"
          }
        }
      ]
    }
  ]
}